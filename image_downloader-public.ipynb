{
 "cells": [
  {
   "cell_type": "code",
   "execution_count": 2,
   "id": "9474a1da",
   "metadata": {},
   "outputs": [],
   "source": [
    "import requests\n",
    "import pandas as pd\n",
    "import json\n",
    "from datetime import datetime\n",
    "import urllib.request\n",
    "import os\n",
    "import ipywidgets as widgets\n",
    "from IPython.display import display"
   ]
  },
  {
   "cell_type": "code",
   "execution_count": 11,
   "id": "639507d1",
   "metadata": {},
   "outputs": [],
   "source": [
    "def convert_time_stamp(payload):\n",
    "    return datetime.utcfromtimestamp(payload).strftime('%Y-%m-%d %H:%M:%S')\n",
    "    \n",
    "def get_user_info(username):\n",
    "\n",
    "    url = \"https://instagram28.p.rapidapi.com/user_info\"\n",
    "\n",
    "    querystring = {\"user_name\":f\"{username}\"}\n",
    "\n",
    "    headers = {\n",
    "        'x-rapidapi-host': \"instagram28.p.rapidapi.com\",\n",
    "        'x-rapidapi-key': \"\" # YOUR KEY HERE\n",
    "        }\n",
    "\n",
    "    response = requests.request(\"GET\", url, headers=headers, params=querystring)\n",
    "\n",
    "    return response.text\n",
    "    \n",
    "def get_media(user_id, end_cursor=None):\n",
    "    url = \"https://instagram28.p.rapidapi.com/medias\"\n",
    "    \n",
    "    if end_cursor:\n",
    "        querystring = {\"user_id\":f\"{user_id}\",\"next_cursor\":f\"{end_cursor}\",\"batch_size\":\"40\"}\n",
    "    else:\n",
    "        querystring = {\"user_id\":f\"{user_id}\",\"batch_size\":\"40\"}\n",
    "\n",
    "    headers = {\n",
    "        'x-rapidapi-host': \"instagram28.p.rapidapi.com\",\n",
    "        'x-rapidapi-key': \"\" # YOUR KEY HERE\n",
    "        }\n",
    "\n",
    "    response = requests.request(\"GET\", url, headers=headers, params=querystring)\n",
    "\n",
    "    return response.text\n",
    "    \n",
    "def get_user_id(resp):\n",
    "    if type(resp) != dict:\n",
    "        resp = json.loads(resp)\n",
    "    user_id = resp['data']['user']['id']\n",
    "    return user_id\n",
    "    \n",
    "def extract_end_cursor(user_info_payload):\n",
    "    if user_info_payload['data']['user']['edge_owner_to_timeline_media']['page_info']['has_next_page'] == True:\n",
    "        end_cursor = user_info_payload['data']['user']['edge_owner_to_timeline_media']['page_info']['end_cursor']\n",
    "        return end_cursor\n",
    "    else:\n",
    "        return None\n",
    "        \n",
    "def extract_media_information(node, user_info_payload):\n",
    "    if type(user_info_payload) != dict:\n",
    "        user_info_payload = json.loads(user_info_payload)\n",
    "    media_data = user_info_payload['data']['user']['edge_owner_to_timeline_media']['edges'][0]['node'].keys()\n",
    "    parent_media_df = pd.DataFrame(columns=media_data)\n",
    "\n",
    "    dictionary = {}\n",
    "    for key,value in node['node'].items():\n",
    "        dictionary[key] = value\n",
    "        \n",
    "        child_media_df = pd.DataFrame(columns=media_data)\n",
    "\n",
    "        child_media_df = child_media_df.append(dictionary, ignore_index=True)\n",
    "        child_media_df = child_media_df.iloc[-1]\n",
    "\n",
    "    parent_media_df = parent_media_df.append(child_media_df)\n",
    "    return parent_media_df\n",
    "    \n",
    "def get_media_dataframe(user_info_payload):\n",
    "    if type(user_info_payload) != dict:\n",
    "        user_info_payload = json.loads(user_info_payload)\n",
    "        \n",
    "    end_cursor = extract_end_cursor(user_info_payload)\n",
    "    \n",
    "    media_data = user_info_payload['data']['user']['edge_owner_to_timeline_media']['edges'][0]['node'].keys()\n",
    "    parent_media_df = pd.DataFrame(columns=media_data)\n",
    "    \n",
    "    for node in user_info_payload['data']['user']['edge_owner_to_timeline_media']['edges']:\n",
    "        dataframe = extract_media_information(node, user_info_payload)\n",
    "        parent_media_df = parent_media_df.append(dataframe, ignore_index=True)\n",
    "    \n",
    "    parent_media_df['taken_at_timestamp_fixed'] = parent_media_df['taken_at_timestamp'].apply(lambda x: convert_time_stamp(x))    \n",
    "    \n",
    "    return parent_media_df, end_cursor\n",
    "    \n",
    "def main_search(nm_user_id):\n",
    "    media_payload = get_media(nm_user_id)\n",
    "    media_dataframe, end_cursor = get_media_dataframe(media_payload)\n",
    "    if end_cursor:\n",
    "        media_payload_2 = get_media(nm_user_id, end_cursor)\n",
    "        media_dataframe_2, end_cursor = get_media_dataframe(media_payload_2)\n",
    "        master_dataframe = media_dataframe.append(media_dataframe_2, ignore_index=True)\n",
    "    else:\n",
    "        master_dataframe = media_dataframe\n",
    "    return master_dataframe\n",
    "    \n",
    "def write_user_info_to_file(user_info_payload, file_path):\n",
    "    json_user_info_payload = json.loads(user_info_payload)\n",
    "    name = json_user_info_payload['data']['user']['full_name']\n",
    "    text_file = open(f\"{file_path}\\\\{name}_user_info.txt\", \"w\", encoding=\"utf-8\")\n",
    "    text_file.write(user_info_payload)\n",
    "    text_file.close()\n",
    "    \n",
    "def extract_images_from_url(url, file_path):\n",
    "    \n",
    "    img_data = requests.get(url).content\n",
    "    filename = url.split('.jpg')[0].split('/')[-1]\n",
    "    with open(f'{file_path}\\\\{filename}.jpg', 'wb') as handler:\n",
    "        handler.write(img_data)"
   ]
  },
  {
   "cell_type": "code",
   "execution_count": 5,
   "id": "e6878c42",
   "metadata": {},
   "outputs": [
    {
     "name": "stdout",
     "output_type": "stream",
     "text": [
      "Enter Username Here: alesya.kostareva\n"
     ]
    }
   ],
   "source": [
    "instagram_username = input('Enter Username Here: ')"
   ]
  },
  {
   "cell_type": "code",
   "execution_count": 13,
   "id": "9f032c46",
   "metadata": {},
   "outputs": [
    {
     "data": {
      "application/vnd.jupyter.widget-view+json": {
       "model_id": "61c22db8c7a9421e85a0b4ddb47ddbb0",
       "version_major": 2,
       "version_minor": 0
      },
      "text/plain": [
       "Checkbox(value=False, description='Download Images', indent=False)"
      ]
     },
     "metadata": {},
     "output_type": "display_data"
    },
    {
     "data": {
      "application/vnd.jupyter.widget-view+json": {
       "model_id": "61bddb7a507542a0a7e8afb1947d4bcd",
       "version_major": 2,
       "version_minor": 0
      },
      "text/plain": [
       "Button(description='Search Instagram', style=ButtonStyle())"
      ]
     },
     "metadata": {},
     "output_type": "display_data"
    },
    {
     "data": {
      "application/vnd.jupyter.widget-view+json": {
       "model_id": "da4028fc53d7487c837bbfc92808d7c4",
       "version_major": 2,
       "version_minor": 0
      },
      "text/plain": [
       "Output()"
      ]
     },
     "metadata": {},
     "output_type": "display_data"
    }
   ],
   "source": [
    "button = widgets.Button(description=\"Search Instagram\")\n",
    "output = widgets.Output()\n",
    "image_download_boolean = widgets.Checkbox(\n",
    "    value=False,\n",
    "    description='Download Images',\n",
    "    disabled=False,\n",
    "    indent=False\n",
    ")\n",
    "\n",
    "display(image_download_boolean, button, output)\n",
    "\n",
    "def on_button_clicked(b):\n",
    "    with output:\n",
    "        print(f\"Searching Instagram for User: {instagram_username}\")\n",
    "        user_info_payload = get_user_info(instagram_username)\n",
    "        nm_user_id = get_user_id(user_info_payload)\n",
    "        master_df = main_search(nm_user_id)\n",
    "        try:\n",
    "            parent_path = os.path.expanduser('~')\n",
    "            folder = instagram_username\n",
    "            file_path = os.path.join(parent_path, folder)\n",
    "            os.mkdir(file_path)\n",
    "        except:\n",
    "            pass\n",
    "\n",
    "        try:\n",
    "            master_df.to_csv(f'{file_path}\\\\{instagram_username}_media_file.csv')\n",
    "        except:\n",
    "            print('File with that name already exists')\n",
    "        \n",
    "        try:\n",
    "            write_user_info_to_file(user_info_payload, file_path)\n",
    "        except:\n",
    "            print('File with that name already exists')\n",
    "            \n",
    "        if image_download_boolean.value == True:\n",
    "            print('Starting Image Download')\n",
    "            master_df['display_url'].apply(lambda x: extract_images_from_url(x, file_path))\n",
    "        print('Search Complete.')\n",
    "\n",
    "button.on_click(on_button_clicked)"
   ]
  },
  {
   "cell_type": "code",
   "execution_count": null,
   "id": "746fc95d",
   "metadata": {},
   "outputs": [],
   "source": []
  }
 ],
 "metadata": {
  "kernelspec": {
   "display_name": "Python 3 (ipykernel)",
   "language": "python",
   "name": "python3"
  },
  "language_info": {
   "codemirror_mode": {
    "name": "ipython",
    "version": 3
   },
   "file_extension": ".py",
   "mimetype": "text/x-python",
   "name": "python",
   "nbconvert_exporter": "python",
   "pygments_lexer": "ipython3",
   "version": "3.9.7"
  }
 },
 "nbformat": 4,
 "nbformat_minor": 5
}
